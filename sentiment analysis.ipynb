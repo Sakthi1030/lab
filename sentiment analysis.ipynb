{
 "cells": [
  {
   "cell_type": "code",
   "execution_count": 15,
   "id": "eeba3c28",
   "metadata": {},
   "outputs": [
    {
     "ename": "IndentationError",
     "evalue": "unindent does not match any outer indentation level (<tokenize>, line 15)",
     "output_type": "error",
     "traceback": [
      "\u001b[1;36m  File \u001b[1;32m<tokenize>:15\u001b[1;36m\u001b[0m\n\u001b[1;33m    if positive_count > negative_count:\u001b[0m\n\u001b[1;37m    ^\u001b[0m\n\u001b[1;31mIndentationError\u001b[0m\u001b[1;31m:\u001b[0m unindent does not match any outer indentation level\n"
     ]
    }
   ],
   "source": [
    "# Define lists of positive and negative words\n",
    "positive_words = [\"happy\", \"good\", \"love\", \"fantastic\", \"like\", \"joy\", \"amazing\"]\n",
    "negative_words = [\"sad\", \"bad\", \"hate\", \"terrible\", \"dislike\", \"angry\", \"horrible\"]\n",
    "class sentiment(word):\n",
    "    words = word.lower().spilt()\n",
    "    positive_word = 0\n",
    "    negative_word= 0\n",
    "    for i in words:\n",
    "        if word in positive_words:\n",
    "            positive_words += 1\n",
    "    \n",
    "    for i in words:\n",
    "        if word in negative_words:\n",
    "            negative_words += 1\n",
    "     if positive_count > negative_count:\n",
    "            return \"positive\"\n",
    "     elif negative_count > positive_count:\n",
    "            return \"negative\"\n",
    "     else:\n",
    "            return \"neutral\"\n",
    "    \n",
    "word = 'im a bad guy from thanjavur i will gwt angry often but i often like to be happy ly go outside'\n",
    "sentence =         sentiment(word)\n",
    "print('the sentiment of the speech is{sentence}')\n",
    "        "
   ]
  }
 ],
 "metadata": {
  "kernelspec": {
   "display_name": "Python 3 (ipykernel)",
   "language": "python",
   "name": "python3"
  },
  "language_info": {
   "codemirror_mode": {
    "name": "ipython",
    "version": 3
   },
   "file_extension": ".py",
   "mimetype": "text/x-python",
   "name": "python",
   "nbconvert_exporter": "python",
   "pygments_lexer": "ipython3",
   "version": "3.11.3"
  }
 },
 "nbformat": 4,
 "nbformat_minor": 5
}
