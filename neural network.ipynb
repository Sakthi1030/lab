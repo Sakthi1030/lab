{
 "cells": [
  {
   "cell_type": "code",
   "execution_count": 3,
   "id": "660cc1fd",
   "metadata": {},
   "outputs": [],
   "source": [
    "import numpy as np\n",
    "import matplotlib.pyplot as plt"
   ]
  },
  {
   "cell_type": "code",
   "execution_count": 10,
   "id": "be50f018",
   "metadata": {},
   "outputs": [
    {
     "name": "stdout",
     "output_type": "stream",
     "text": [
      "Enter the size of the array: 2\n",
      "Enter element 1: 3\n",
      "Enter element 2: 4\n",
      "Your NumPy array x1:\n",
      "[3. 4.]\n",
      "enter learning rate:1\n",
      "enter weight values:2\n",
      "enter weight values:3\n",
      "enter weight values:4\n",
      "enter weight values:2\n",
      "enter weight values:4\n",
      "enter weight values:\n"
     ]
    }
   ],
   "source": [
    "\n",
    "array_size = int(input(\"Enter the size of the array: \"))\n",
    "\n",
    "# Initialize an empty list to store user input\n",
    "user_input_list = []\n",
    "\n",
    "# Collect user input for each element\n",
    "for i in range(array_size):\n",
    "    element = float(input(f\"Enter element {i + 1}: \"))\n",
    "    user_input_list.append(element)\n",
    "\n",
    "# Create a NumPy array from the user input\n",
    "x1 = np.array(user_input_list, dtype=np.float16)\n",
    "\n",
    "print(\"Your NumPy array x1:\")\n",
    "print(x1)\n",
    "w14=[]\n",
    "w13=[]\n",
    "w23=[]\n",
    "w24=[]\n",
    "w30=[]\n",
    "w40=[]\n",
    "lr=int(input(\"enter learning rate:\"))\n",
    "for i in range(6):\n",
    "    w=input(\"enter weight values:\").split()\n",
    "    w14\n",
    "    w13=[]\n",
    "    w23=[]\n",
    "    w24=[]\n",
    "    w30=[]\n",
    "    w40\n",
    "    \n",
    "   "
   ]
  },
  {
   "cell_type": "code",
   "execution_count": null,
   "id": "e85112a1",
   "metadata": {},
   "outputs": [],
   "source": []
  }
 ],
 "metadata": {
  "kernelspec": {
   "display_name": "Python 3 (ipykernel)",
   "language": "python",
   "name": "python3"
  },
  "language_info": {
   "codemirror_mode": {
    "name": "ipython",
    "version": 3
   },
   "file_extension": ".py",
   "mimetype": "text/x-python",
   "name": "python",
   "nbconvert_exporter": "python",
   "pygments_lexer": "ipython3",
   "version": "3.11.3"
  }
 },
 "nbformat": 4,
 "nbformat_minor": 5
}
