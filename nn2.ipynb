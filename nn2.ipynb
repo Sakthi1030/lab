{
 "cells": [
  {
   "cell_type": "code",
   "execution_count": 1,
   "id": "f90721c4",
   "metadata": {},
   "outputs": [
    {
     "name": "stdout",
     "output_type": "stream",
     "text": [
      "Output: [0.3913667420152641]\n"
     ]
    }
   ],
   "source": [
    "import random\n",
    "\n",
    "class NeuralNetwork:\n",
    "    def __init__(self, input_size, hidden_size, output_size):\n",
    "        self.input_size = input_size\n",
    "        self.hidden_size = hidden_size\n",
    "        self.output_size = output_size\n",
    "        \n",
    "        # Initialize weights randomly\n",
    "        self.weights_input_hidden = [[random.uniform(-1, 1) for _ in range(hidden_size)] for _ in range(input_size)]\n",
    "        self.weights_hidden_output = [[random.uniform(-1, 1) for _ in range(output_size)] for _ in range(hidden_size)]\n",
    "\n",
    "        # Initialize biases randomly\n",
    "        self.bias_hidden = [random.uniform(-1, 1) for _ in range(hidden_size)]\n",
    "        self.bias_output = [random.uniform(-1, 1) for _ in range(output_size)]\n",
    "\n",
    "    def sigmoid(self, x):\n",
    "        return 1 / (1 + pow(2.718281828, -x))  # Approximation of sigmoid function\n",
    "\n",
    "    def forward(self, input_data):\n",
    "        # Calculate hidden layer's input\n",
    "        hidden_inputs = [sum([input_data[j] * self.weights_input_hidden[j][i] for j in range(self.input_size)]) + self.bias_hidden[i] for i in range(self.hidden_size)]\n",
    "\n",
    "        # Calculate hidden layer's output\n",
    "        hidden_outputs = [self.sigmoid(x) for x in hidden_inputs]\n",
    "\n",
    "        # Calculate output layer's input\n",
    "        output_inputs = [sum([hidden_outputs[j] * self.weights_hidden_output[j][i] for j in range(self.hidden_size)]) + self.bias_output[i] for i in range(self.output_size)]\n",
    "\n",
    "        # Calculate output layer's output\n",
    "        output_outputs = [self.sigmoid(x) for x in output_inputs]\n",
    "\n",
    "        return output_outputs\n",
    "\n",
    "# Example usage:\n",
    "# Define a neural network with 2 input neurons, 2 hidden neurons, and 1 output neuron\n",
    "nn = NeuralNetwork(input_size=2, hidden_size=2, output_size=1)\n",
    "\n",
    "# Input data\n",
    "input_data = [0.5, 0.3]\n",
    "\n",
    "# Forward pass\n",
    "output = nn.forward(input_data)\n",
    "\n",
    "print(\"Output:\", output)\n"
   ]
  }
 ],
 "metadata": {
  "kernelspec": {
   "display_name": "Python 3 (ipykernel)",
   "language": "python",
   "name": "python3"
  },
  "language_info": {
   "codemirror_mode": {
    "name": "ipython",
    "version": 3
   },
   "file_extension": ".py",
   "mimetype": "text/x-python",
   "name": "python",
   "nbconvert_exporter": "python",
   "pygments_lexer": "ipython3",
   "version": "3.11.3"
  }
 },
 "nbformat": 4,
 "nbformat_minor": 5
}
