{
  "nbformat": 4,
  "nbformat_minor": 0,
  "metadata": {
    "colab": {
      "provenance": [],
      "authorship_tag": "ABX9TyOJMJxkVzAgA2xqA6UxDaws",
      "include_colab_link": true
    },
    "kernelspec": {
      "name": "python3",
      "display_name": "Python 3"
    },
    "language_info": {
      "name": "python"
    }
  },
  "cells": [
    {
      "cell_type": "markdown",
      "metadata": {
        "id": "view-in-github",
        "colab_type": "text"
      },
      "source": [
        "<a href=\"https://colab.research.google.com/github/Sakthi1030/lab/blob/main/BRNN_for_mist.ipynb\" target=\"_parent\"><img src=\"https://colab.research.google.com/assets/colab-badge.svg\" alt=\"Open In Colab\"/></a>"
      ]
    },
    {
      "cell_type": "code",
      "execution_count": 1,
      "metadata": {
        "id": "ys62YDWlpQBA"
      },
      "outputs": [],
      "source": [
        "import warnings\n",
        "warnings.filterwarnings(\"ignore\")"
      ]
    },
    {
      "cell_type": "code",
      "source": [
        "from__future__import print_function\n"
      ],
      "metadata": {
        "colab": {
          "base_uri": "https://localhost:8080/",
          "height": 110
        },
        "id": "-jAQ7yoJphLV",
        "outputId": "dac86a1c-1a35-41aa-800c-5d3413a92909"
      },
      "execution_count": 3,
      "outputs": [
        {
          "output_type": "error",
          "ename": "SyntaxError",
          "evalue": "invalid syntax (<ipython-input-3-e384d8c8e1ce>, line 1)",
          "traceback": [
            "\u001b[0;36m  File \u001b[0;32m\"<ipython-input-3-e384d8c8e1ce>\"\u001b[0;36m, line \u001b[0;32m1\u001b[0m\n\u001b[0;31m    from__future__import print_function\u001b[0m\n\u001b[0m                         ^\u001b[0m\n\u001b[0;31mSyntaxError\u001b[0m\u001b[0;31m:\u001b[0m invalid syntax\n"
          ]
        }
      ]
    },
    {
      "cell_type": "code",
      "source": [
        "import tensorflow as tf\n",
        "from tensorflow.keras.datasets import mnist\n",
        "from tensorflow.keras.models import Sequential\n",
        "from tensorflow.keras.layers import Dense, Dropout, Flatten, Bidirectional, LSTM\n",
        "from tensorflow.keras.utils import to_categorical\n",
        "\n",
        "# Load the MNIST dataset\n",
        "(x_train, y_train), (x_test, y_test) = mnist.load_data()\n",
        "\n",
        "# Preprocess the data\n",
        "x_train = x_train / 255.0\n",
        "x_test = x_test / 255.0\n",
        "\n",
        "# Convert labels to one-hot encoding\n",
        "y_train = to_categorical(y_train, 10)\n",
        "y_test = to_categorical(y_test, 10)\n",
        "\n",
        "# Build the BRNN model\n",
        "model = Sequential()\n",
        "model.add(Bidirectional(LSTM(64, return_sequences=True), input_shape=(28, 28)))\n",
        "model.add(Dropout(0.2))\n",
        "model.add(Flatten())\n",
        "model.add(Dense(128, activation='relu'))\n",
        "model.add(Dropout(0.2))\n",
        "model.add(Dense(10, activation='softmax'))\n",
        "\n",
        "# Compile the model\n",
        "model.compile(optimizer='adam', loss='categorical_crossentropy', metrics=['accuracy'])\n",
        "\n",
        "# Train the model\n",
        "model.fit(x_train, y_train, epochs=10, batch_size=128, validation_data=(x_test, y_test))\n",
        "\n",
        "# Evaluate the model\n",
        "test_loss, test_acc = model.evaluate(x_test, y_test)\n",
        "print('Test accuracy:', test_acc)\n"
      ],
      "metadata": {
        "colab": {
          "base_uri": "https://localhost:8080/"
        },
        "id": "f_SiLktWqHmw",
        "outputId": "5cf59ac0-bada-4aa3-e4a3-304f1ec67a87"
      },
      "execution_count": 4,
      "outputs": [
        {
          "output_type": "stream",
          "name": "stdout",
          "text": [
            "Downloading data from https://storage.googleapis.com/tensorflow/tf-keras-datasets/mnist.npz\n",
            "11490434/11490434 [==============================] - 0s 0us/step\n",
            "Epoch 1/10\n",
            "469/469 [==============================] - 50s 96ms/step - loss: 0.2919 - accuracy: 0.9111 - val_loss: 0.0959 - val_accuracy: 0.9691\n",
            "Epoch 2/10\n",
            "469/469 [==============================] - 44s 94ms/step - loss: 0.1032 - accuracy: 0.9686 - val_loss: 0.0649 - val_accuracy: 0.9788\n",
            "Epoch 3/10\n",
            "469/469 [==============================] - 44s 94ms/step - loss: 0.0703 - accuracy: 0.9782 - val_loss: 0.0616 - val_accuracy: 0.9789\n",
            "Epoch 4/10\n",
            "469/469 [==============================] - 49s 104ms/step - loss: 0.0546 - accuracy: 0.9829 - val_loss: 0.0502 - val_accuracy: 0.9836\n",
            "Epoch 5/10\n",
            "469/469 [==============================] - 43s 92ms/step - loss: 0.0453 - accuracy: 0.9857 - val_loss: 0.0431 - val_accuracy: 0.9867\n",
            "Epoch 6/10\n",
            "469/469 [==============================] - 44s 94ms/step - loss: 0.0377 - accuracy: 0.9878 - val_loss: 0.0509 - val_accuracy: 0.9844\n",
            "Epoch 7/10\n",
            "469/469 [==============================] - 44s 95ms/step - loss: 0.0322 - accuracy: 0.9894 - val_loss: 0.0361 - val_accuracy: 0.9889\n",
            "Epoch 8/10\n",
            "469/469 [==============================] - 45s 97ms/step - loss: 0.0290 - accuracy: 0.9905 - val_loss: 0.0438 - val_accuracy: 0.9867\n",
            "Epoch 9/10\n",
            "469/469 [==============================] - 44s 93ms/step - loss: 0.0255 - accuracy: 0.9918 - val_loss: 0.0364 - val_accuracy: 0.9880\n",
            "Epoch 10/10\n",
            "469/469 [==============================] - 46s 97ms/step - loss: 0.0236 - accuracy: 0.9920 - val_loss: 0.0376 - val_accuracy: 0.9883\n",
            "313/313 [==============================] - 4s 12ms/step - loss: 0.0376 - accuracy: 0.9883\n",
            "Test accuracy: 0.9883000254631042\n"
          ]
        }
      ]
    }
  ]
}