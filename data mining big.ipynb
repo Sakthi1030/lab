{
 "cells": [
  {
   "cell_type": "code",
   "execution_count": 89,
   "id": "3dc795fb",
   "metadata": {},
   "outputs": [
    {
     "data": {
      "text/plain": [
       "0    211.3375\n",
       "1    151.5500\n",
       "2    151.5500\n",
       "3    151.5500\n",
       "4    151.5500\n",
       "Name: fare, dtype: float64"
      ]
     },
     "execution_count": 89,
     "metadata": {},
     "output_type": "execute_result"
    }
   ],
   "source": [
    "import pandas as pd\n",
    "from pandas import ExcelWriter\n",
    "from pandas import ExcelFile\n",
    "titanic_df = pd.read_excel('titanic3.xlsx')\n",
    "wine_df =pd.read_csv('wine.csv')\n",
    "brain_csv =pd.read_csv('brain_size.csv',sep =';')\n",
    "from sklearn import preprocessing as pp\n",
    "titanic_df['fare'].head()\n",
    "\n",
    "\n",
    "\n",
    "\n",
    "\n"
   ]
  },
  {
   "cell_type": "code",
   "execution_count": 90,
   "id": "d340db71",
   "metadata": {},
   "outputs": [
    {
     "name": "stdout",
     "output_type": "stream",
     "text": [
      "          fare\n",
      "0     211.3375\n",
      "1     151.5500\n",
      "2     151.5500\n",
      "3     151.5500\n",
      "4     151.5500\n",
      "...        ...\n",
      "1304   14.4542\n",
      "1305   14.4542\n",
      "1306    7.2250\n",
      "1307    7.2250\n",
      "1308    7.8750\n",
      "\n",
      "[1309 rows x 1 columns]\n",
      "<class 'pandas.core.frame.DataFrame'>\n",
      "RangeIndex: 1309 entries, 0 to 1308\n",
      "Data columns (total 15 columns):\n",
      " #   Column            Non-Null Count  Dtype  \n",
      "---  ------            --------------  -----  \n",
      " 0   pclass            1309 non-null   int64  \n",
      " 1   survived          1309 non-null   int64  \n",
      " 2   name              1309 non-null   object \n",
      " 3   sex               1309 non-null   object \n",
      " 4   age               1046 non-null   float64\n",
      " 5   sibsp             1309 non-null   int64  \n",
      " 6   parch             1309 non-null   int64  \n",
      " 7   ticket            1309 non-null   object \n",
      " 8   fare              1308 non-null   float64\n",
      " 9   cabin             295 non-null    object \n",
      " 10  embarked          1307 non-null   object \n",
      " 11  boat              486 non-null    object \n",
      " 12  body              121 non-null    float64\n",
      " 13  home.dest         745 non-null    object \n",
      " 14  fare_away_scaled  1308 non-null   float64\n",
      "dtypes: float64(4), int64(4), object(7)\n",
      "memory usage: 153.5+ KB\n"
     ]
    }
   ],
   "source": [
    "data_scalar = pp.MinMaxScaler(feature_range=(0,1))\n",
    "fare_away = titanic_df[['fare']]\n",
    "print(fare_away)\n",
    "fare_away_scaled = data_scalar.fit_transform(fare_away)\n",
    "titanic_df['fare_away_scaled']=fare_away_scaled\n",
    "titanic_df\n",
    "titanic_df.info()\n"
   ]
  },
  {
   "cell_type": "code",
   "execution_count": 91,
   "id": "0e694791",
   "metadata": {},
   "outputs": [
    {
     "name": "stdout",
     "output_type": "stream",
     "text": [
      "<class 'pandas.core.frame.DataFrame'>\n",
      "RangeIndex: 1309 entries, 0 to 1308\n",
      "Data columns (total 11 columns):\n",
      " #   Column            Non-Null Count  Dtype  \n",
      "---  ------            --------------  -----  \n",
      " 0   pclass            1309 non-null   int64  \n",
      " 1   survived          1309 non-null   int64  \n",
      " 2   sex               1309 non-null   object \n",
      " 3   age               1046 non-null   float64\n",
      " 4   sibsp             1309 non-null   int64  \n",
      " 5   parch             1309 non-null   int64  \n",
      " 6   ticket            1309 non-null   object \n",
      " 7   fare              1308 non-null   float64\n",
      " 8   embarked          1307 non-null   object \n",
      " 9   home.dest         745 non-null    object \n",
      " 10  fare_away_scaled  1308 non-null   float64\n",
      "dtypes: float64(3), int64(4), object(4)\n",
      "memory usage: 112.6+ KB\n",
      "<class 'pandas.core.frame.DataFrame'>\n",
      "RangeIndex: 1309 entries, 0 to 1308\n",
      "Data columns (total 11 columns):\n",
      " #   Column            Non-Null Count  Dtype  \n",
      "---  ------            --------------  -----  \n",
      " 0   pclass            1309 non-null   int64  \n",
      " 1   survived          1309 non-null   int64  \n",
      " 2   sex               1309 non-null   object \n",
      " 3   age               1309 non-null   float64\n",
      " 4   sibsp             1309 non-null   int64  \n",
      " 5   parch             1309 non-null   int64  \n",
      " 6   ticket            1309 non-null   object \n",
      " 7   fare              1308 non-null   float64\n",
      " 8   embarked          1307 non-null   object \n",
      " 9   home.dest         745 non-null    object \n",
      " 10  fare_away_scaled  1308 non-null   float64\n",
      "dtypes: float64(3), int64(4), object(4)\n",
      "memory usage: 112.6+ KB\n"
     ]
    },
    {
     "data": {
      "text/plain": [
       "'brain_size.csv'"
      ]
     },
     "execution_count": 91,
     "metadata": {},
     "output_type": "execute_result"
    }
   ],
   "source": [
    "col_to_drop=['body','boat','cabin','name']\n",
    "titanic_df=titanic_df.drop(col_to_drop,axis=1)\n",
    "titanic_df.info()\n",
    "titanic_df['age']=titanic_df['age'].interpolate()\n",
    "titanic_df.info()\n",
    "titanic_df=titanic_df.dropna()\n",
    "titanic_df\n",
    "brain_df\n"
   ]
  },
  {
   "cell_type": "code",
   "execution_count": 94,
   "id": "93f21e79",
   "metadata": {},
   "outputs": [
    {
     "ename": "TypeError",
     "evalue": "string indices must be integers, not 'list'",
     "output_type": "error",
     "traceback": [
      "\u001b[1;31m---------------------------------------------------------------------------\u001b[0m",
      "\u001b[1;31mTypeError\u001b[0m                                 Traceback (most recent call last)",
      "Cell \u001b[1;32mIn[94], line 2\u001b[0m\n\u001b[0;32m      1\u001b[0m normalizer \u001b[38;5;241m=\u001b[39m pp\u001b[38;5;241m.\u001b[39mNormalizer(norm \u001b[38;5;241m=\u001b[39m\u001b[38;5;124m'\u001b[39m\u001b[38;5;124m||\u001b[39m\u001b[38;5;124m'\u001b[39m)\n\u001b[1;32m----> 2\u001b[0m fsiq_array \u001b[38;5;241m=\u001b[39m brain_df[[\u001b[38;5;124m'\u001b[39m\u001b[38;5;124mfsiq\u001b[39m\u001b[38;5;124m'\u001b[39m]]\n",
      "\u001b[1;31mTypeError\u001b[0m: string indices must be integers, not 'list'"
     ]
    }
   ],
   "source": [
    "normalizer = pp.Normalizer(norm ='||')\n",
    "fsiq_array = brain_df[['fsiq']]\n",
    "fsiq_array = brain \n"
   ]
  },
  {
   "cell_type": "code",
   "execution_count": null,
   "id": "2ccc62fd",
   "metadata": {},
   "outputs": [],
   "source": []
  },
  {
   "cell_type": "code",
   "execution_count": null,
   "id": "b8cf1041",
   "metadata": {},
   "outputs": [],
   "source": []
  },
  {
   "cell_type": "code",
   "execution_count": null,
   "id": "f1a9cee2",
   "metadata": {},
   "outputs": [],
   "source": []
  }
 ],
 "metadata": {
  "kernelspec": {
   "display_name": "Python 3 (ipykernel)",
   "language": "python",
   "name": "python3"
  },
  "language_info": {
   "codemirror_mode": {
    "name": "ipython",
    "version": 3
   },
   "file_extension": ".py",
   "mimetype": "text/x-python",
   "name": "python",
   "nbconvert_exporter": "python",
   "pygments_lexer": "ipython3",
   "version": "3.11.3"
  }
 },
 "nbformat": 4,
 "nbformat_minor": 5
}
