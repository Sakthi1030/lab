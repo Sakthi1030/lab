{
 "cells": [
  {
   "cell_type": "code",
   "execution_count": 4,
   "id": "95291907",
   "metadata": {},
   "outputs": [
    {
     "name": "stdout",
     "output_type": "stream",
     "text": [
      "enter the value of  x:5\n",
      "enter the value of y:4\n",
      "enter the value of n:3\n",
      "enter the value of k:2\n",
      "11\n",
      "8\n",
      "6\n",
      "[11, 8, 6]\n",
      "2\n",
      "17\n",
      "6\n",
      "[2, 17, 6]\n",
      "[6.325, 13.342, 2.236]\n",
      "    a   b       c  Rank\n",
      "2   6   6   2.236     1\n",
      "0  11   2   6.325     2\n",
      "1   8  17  13.342     3\n",
      "The values for the given k is:\n"
     ]
    },
    {
     "data": {
      "text/plain": [
       "a    6.000\n",
       "b    6.000\n",
       "c    2.236\n",
       "Name: 2, dtype: float64"
      ]
     },
     "execution_count": 4,
     "metadata": {},
     "output_type": "execute_result"
    }
   ],
   "source": [
    "a=[]\n",
    "b=[]\n",
    "c=[]\n",
    "import pandas as pd\n",
    "\n",
    "x=int(input('enter the value of  x:'))\n",
    "y=int(input('enter the value of y:'))\n",
    "n= int(input(\"enter the value of n:\"))\n",
    "k= int(input(\"enter the value of k:\"))\n",
    "\n",
    "for i in range(n):\n",
    "    ele =int(input())\n",
    "    a.append(ele)\n",
    "print(a)\n",
    "\n",
    "for i in range(n):\n",
    "    ele = int(input())\n",
    "    b.append(ele)\n",
    "print(b)\n",
    "\n",
    "for i in range(n):\n",
    "    summ = round(((a[i]-x)**2+(b[i]-y)**2)**0.5,3)\n",
    "    c.append(summ)\n",
    "print(c)\n",
    "\n",
    "df = {\"a\":a,\n",
    "     \"b\":b,\n",
    "     \"c\":c}\n",
    "df2 =pd.DataFrame(df)\n",
    "df1=df2.sort_values(by='c')\n",
    "df1['Rank']=range(1,len(df)+1)\n",
    "print(df1)\n",
    "\n",
    "k = k-1\n",
    "res=df1.iloc[k-1,0:3]\n",
    "print(\"The values for the given k is:\")\n",
    "res"
   ]
  }
 ],
 "metadata": {
  "kernelspec": {
   "display_name": "Python 3 (ipykernel)",
   "language": "python",
   "name": "python3"
  },
  "language_info": {
   "codemirror_mode": {
    "name": "ipython",
    "version": 3
   },
   "file_extension": ".py",
   "mimetype": "text/x-python",
   "name": "python",
   "nbconvert_exporter": "python",
   "pygments_lexer": "ipython3",
   "version": "3.11.3"
  }
 },
 "nbformat": 4,
 "nbformat_minor": 5
}
