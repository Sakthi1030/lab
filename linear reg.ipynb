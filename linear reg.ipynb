{
 "cells": [
  {
   "cell_type": "code",
   "execution_count": 1,
   "id": "036cd5ab",
   "metadata": {},
   "outputs": [
    {
     "name": "stdout",
     "output_type": "stream",
     "text": [
      "Slope (m): 0.80\n",
      "Intercept (c): 1.80\n",
      "Predictions: [2.5999999999999996, 3.4, 4.2, 5.0, 5.8]\n"
     ]
    }
   ],
   "source": [
    "\n",
    "x_values = [1, 2, 3, 4, 5] \n",
    "y_values = [2, 4, 5, 4, 6]  \n",
    "\n",
    "\n",
    "mean_x = sum(x_values) / len(x_values)\n",
    "mean_y = sum(y_values) / len(y_values)\n",
    "\n",
    "\n",
    "numerator = sum((x - mean_x) * (y - mean_y) for x, y in zip(x_values, y_values))\n",
    "denominator = sum((x - mean_x) ** 2 for x in x_values)\n",
    "slope_m = numerator / denominator\n",
    "intercept_c = mean_y - slope_m * mean_x\n",
    "\n",
    "\n",
    "predictions = [slope_m * x + intercept_c for x in x_values]\n",
    "\n",
    "\n",
    "print(f\"Slope (m): {slope_m:.2f}\")\n",
    "print(f\"Intercept (c): {intercept_c:.2f}\")\n",
    "print(\"Predictions:\", predictions)\n"
   ]
  }
 ],
 "metadata": {
  "kernelspec": {
   "display_name": "Python 3 (ipykernel)",
   "language": "python",
   "name": "python3"
  },
  "language_info": {
   "codemirror_mode": {
    "name": "ipython",
    "version": 3
   },
   "file_extension": ".py",
   "mimetype": "text/x-python",
   "name": "python",
   "nbconvert_exporter": "python",
   "pygments_lexer": "ipython3",
   "version": "3.11.3"
  }
 },
 "nbformat": 4,
 "nbformat_minor": 5
}
