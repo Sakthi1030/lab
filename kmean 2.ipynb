{
 "cells": [
  {
   "cell_type": "code",
   "execution_count": 1,
   "id": "c5d6375f",
   "metadata": {},
   "outputs": [
    {
     "name": "stdout",
     "output_type": "stream",
     "text": [
      "Final centroids:\n",
      "[[-0.880185   -0.22121937]\n",
      " [ 0.25066515  1.18144736]\n",
      " [ 0.96751239 -0.52427407]]\n",
      "Labels:\n",
      "[2 1 2 2 1 1 2 1 2 2 0 2 2 0 1 1 0 0 1 0 0 1 0 0 0 0 0 1 1 0 0 0 2 0 0 2 2\n",
      " 2 0 0 0 2 1 2 0 1 1 1 1 1 2 0 1 0 1 1 1 1 2 1 2 1 0 1 1 0 0 0 2 2 0 1 2 1\n",
      " 0 1 0 0 2 0 1 2 0 0 2 2 2 0 0 0 0 0 2 0 1 0 2 2 1 1]\n"
     ]
    }
   ],
   "source": [
    "import numpy as np\n",
    "\n",
    "def kmeans(X, k, max_iters=100):\n",
    "    \"\"\"\n",
    "    K-means clustering algorithm implementation without using any external packages.\n",
    "\n",
    "    Parameters:\n",
    "    X (numpy.ndarray): Input data points, each row represents a data point.\n",
    "    k (int): Number of clusters.\n",
    "    max_iters (int): Maximum number of iterations.\n",
    "\n",
    "    Returns:\n",
    "    centroids (numpy.ndarray): Final centroids of the clusters.\n",
    "    labels (numpy.ndarray): Labels of each data point indicating which cluster it belongs to.\n",
    "    \"\"\"\n",
    "\n",
    "    # Randomly initialize centroids\n",
    "    np.random.seed(0)\n",
    "    centroids = X[np.random.choice(X.shape[0], k, replace=False)]\n",
    "\n",
    "    for _ in range(max_iters):\n",
    "        # Assign each data point to the nearest centroid\n",
    "        distances = np.sqrt(((X - centroids[:, np.newaxis])**2).sum(axis=2))\n",
    "        labels = np.argmin(distances, axis=0)\n",
    "\n",
    "        # Update centroids\n",
    "        new_centroids = np.array([X[labels == i].mean(axis=0) for i in range(k)])\n",
    "\n",
    "        # Check for convergence\n",
    "        if np.allclose(centroids, new_centroids):\n",
    "            break\n",
    "\n",
    "        centroids = new_centroids\n",
    "\n",
    "    return centroids, labels\n",
    "\n",
    "# Example usage:\n",
    "# Generate some random data for demonstration\n",
    "np.random.seed(0)\n",
    "X = np.random.randn(100, 2)  # 100 data points in 2 dimensions\n",
    "\n",
    "# Number of clusters\n",
    "k = 3\n",
    "\n",
    "# Perform K-means clustering\n",
    "centroids, labels = kmeans(X, k)\n",
    "\n",
    "print(\"Final centroids:\")\n",
    "print(centroids)\n",
    "print(\"Labels:\")\n",
    "print(labels)\n"
   ]
  }
 ],
 "metadata": {
  "kernelspec": {
   "display_name": "Python 3 (ipykernel)",
   "language": "python",
   "name": "python3"
  },
  "language_info": {
   "codemirror_mode": {
    "name": "ipython",
    "version": 3
   },
   "file_extension": ".py",
   "mimetype": "text/x-python",
   "name": "python",
   "nbconvert_exporter": "python",
   "pygments_lexer": "ipython3",
   "version": "3.11.3"
  }
 },
 "nbformat": 4,
 "nbformat_minor": 5
}
