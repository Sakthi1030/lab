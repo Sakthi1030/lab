{
 "cells": [
  {
   "cell_type": "code",
   "execution_count": 5,
   "id": "ce0859e7",
   "metadata": {},
   "outputs": [
    {
     "name": "stdout",
     "output_type": "stream",
     "text": [
      "0.0\n",
      "-0.5\n",
      "0.0\n",
      "1.5\n"
     ]
    }
   ],
   "source": [
    "x =[1,2,3,4]\n",
    "y =[5,6,7,8]\n",
    "a = sum(x)\n",
    "b = sum(y)\n",
    "ab=0\n",
    "a2=0\n",
    "\n",
    "mean1 = sum(x)/len(x)\n",
    "mean2 = sum(y)/len(y)\n",
    "for i in range(0,len(x)):\n",
    "    x_xbar = x[i]-mean1\n",
    "    print(x_xbar)\n",
    "   "
   ]
  },
  {
   "cell_type": "code",
   "execution_count": null,
   "id": "ddffffb5",
   "metadata": {},
   "outputs": [],
   "source": []
  },
  {
   "cell_type": "code",
   "execution_count": 32,
   "id": "fe9b3fa8",
   "metadata": {},
   "outputs": [
    {
     "name": "stdout",
     "output_type": "stream",
     "text": [
      "57\n"
     ]
    }
   ],
   "source": [
    "x = [1, 2, 3, 4, 5] \n",
    "y = [2, 4, 6, 8, 10] \n",
    "total=0\n",
    "for i in range(0,len(x)):\n",
    "    total += x[i]+total\n",
    "print(total)\n"
   ]
  },
  {
   "cell_type": "code",
   "execution_count": 10,
   "id": "e588e2eb",
   "metadata": {},
   "outputs": [
    {
     "name": "stdout",
     "output_type": "stream",
     "text": [
      "820\n",
      "881\n",
      "mean of y is 176.2\n",
      "mean of x ix 164.0\n",
      "value of c -12.4\n",
      "value of m is 1.15\n",
      "y = 1.15x + -12.400000000000006\n"
     ]
    }
   ],
   "source": [
    "x = [160,162,164,166,168]\n",
    "y = [52,55,54,60,61]\n",
    "total=0\n",
    "for i in range(0,len(x)):\n",
    "    total = x[i]+total\n",
    "    \n",
    "print(total)\n",
    "for i in range(0,len(y)):\n",
    "    total1 = y[i]+total\n",
    "print(total1)\n",
    "x_mean = total/len(x)\n",
    "y_mean = total1/len(y)\n",
    "numerator = 0\n",
    "denominator = 0\n",
    "for i in range(len(x)):\n",
    "    numerator += (x[i] - x_mean) * (y[i] - y_mean)\n",
    "    denominator += (x[i] - x_mean) ** 2\n",
    "m = numerator / denominator\n",
    "\n",
    "\n",
    "c = y_mean - m * x_mean\n",
    "\n",
    "print('mean of y is',y_mean)\n",
    "print('mean of x ix',x_mean)\n",
    "print('value of c',round(c,3))\n",
    "print('value of m is',m)\n",
    "print(f\"y = {m}x + {c}\")\n",
    "\n"
   ]
  },
  {
   "cell_type": "code",
   "execution_count": null,
   "id": "8141d619",
   "metadata": {},
   "outputs": [],
   "source": [
    "\n",
    "y= titanic.dt\n"
   ]
  }
 ],
 "metadata": {
  "kernelspec": {
   "display_name": "Python 3 (ipykernel)",
   "language": "python",
   "name": "python3"
  },
  "language_info": {
   "codemirror_mode": {
    "name": "ipython",
    "version": 3
   },
   "file_extension": ".py",
   "mimetype": "text/x-python",
   "name": "python",
   "nbconvert_exporter": "python",
   "pygments_lexer": "ipython3",
   "version": "3.11.3"
  }
 },
 "nbformat": 4,
 "nbformat_minor": 5
}
