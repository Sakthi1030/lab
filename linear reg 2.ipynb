{
 "cells": [
  {
   "cell_type": "code",
   "execution_count": 1,
   "id": "c8a10d46",
   "metadata": {},
   "outputs": [
    {
     "name": "stdout",
     "output_type": "stream",
     "text": [
      "X=6, Predicted=6.0\n",
      "X=7, Predicted=7.0\n",
      "X=8, Predicted=8.0\n",
      "X=9, Predicted=9.0\n",
      "X=10, Predicted=10.0\n"
     ]
    }
   ],
   "source": [
    "def mean(values):\n",
    "    return sum(values) / float(len(values))\n",
    "\n",
    "def covariance(x, mean_x, y, mean_y):\n",
    "    covar = 0.0\n",
    "    for i in range(len(x)):\n",
    "        covar += (x[i] - mean_x) * (y[i] - mean_y)\n",
    "    return covar\n",
    "\n",
    "def variance(values, mean):\n",
    "    return sum([(x - mean) ** 2 for x in values])\n",
    "\n",
    "def coefficients(x, y):\n",
    "    x_mean, y_mean = mean(x), mean(y)\n",
    "    b1 = covariance(x, x_mean, y, y_mean) / variance(x, x_mean)\n",
    "    b0 = y_mean - b1 * x_mean\n",
    "    return b0, b1\n",
    "\n",
    "def simple_linear_regression(train_X, train_y, test_X):\n",
    "    predictions = list()\n",
    "    b0, b1 = coefficients(train_X, train_y)\n",
    "    for x in test_X:\n",
    "        yhat = b0 + b1 * x\n",
    "        predictions.append(yhat)\n",
    "    return predictions\n",
    "\n",
    "# Example usage:\n",
    "# Sample data\n",
    "train_X = [1, 2, 3, 4, 5]\n",
    "train_y = [1, 2, 3, 4, 5]\n",
    "test_X = [6, 7, 8, 9, 10]\n",
    "\n",
    "# Perform simple linear regression\n",
    "predictions = simple_linear_regression(train_X, train_y, test_X)\n",
    "\n",
    "# Print predictions\n",
    "for i, prediction in enumerate(predictions):\n",
    "    print(f'X={test_X[i]}, Predicted={prediction}')\n"
   ]
  }
 ],
 "metadata": {
  "kernelspec": {
   "display_name": "Python 3 (ipykernel)",
   "language": "python",
   "name": "python3"
  },
  "language_info": {
   "codemirror_mode": {
    "name": "ipython",
    "version": 3
   },
   "file_extension": ".py",
   "mimetype": "text/x-python",
   "name": "python",
   "nbconvert_exporter": "python",
   "pygments_lexer": "ipython3",
   "version": "3.11.3"
  }
 },
 "nbformat": 4,
 "nbformat_minor": 5
}
