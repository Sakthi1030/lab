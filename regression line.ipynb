{
 "cells": [
  {
   "cell_type": "markdown",
   "id": "719d547b",
   "metadata": {
    "scrolled": true
   },
   "source": [
    "n = int(input(\"Enter the value of n:\"))\n",
    "x = []\n",
    "y = []\n",
    "\n",
    "for i in range(n):\n",
    "    a = int(input(\"Enter x value: \"))\n",
    "    x.append(a)\n",
    "\n",
    "print(\"x values:\", x)\n",
    "\n",
    "for i in range(n):\n",
    "    b = int(input(\"Enter y value: \"))\n",
    "    y.append(b)\n",
    "\n",
    "print(\"y values:\", y)\n",
    "\n",
    "x_bar = sum(x) / len(x)\n",
    "y_bar = sum(y) / len(y)\n",
    "\n",
    "\n",
    "cov_xy = sum((x[i] - x_bar) * (y[i] - y_bar) for i in range( n)) \n",
    "bxy = cov_xy/sum((x[i]- x_bar)**2 for i in range(n))\n",
    "byx = cov_xy/sum((y[i]- y_bar)**2 for i in range(n))\n",
    "xony = bxy*(y[i]- y_bar )\n",
    "yonx = byx*(x[i]- x_bar )\n",
    "m = (sum((x[i]*y[i]) for i  in range(n))\n",
    "\n",
    "\n",
    "\n",
    "print('Covariance (bxy):',cov_xy)\n",
    "print('bxy is:',bxy)\n",
    "print('byx is',byx)\n",
    "print(' x on y:',xony)\n",
    "print('y on x:',yonx)\n",
    "print('value of m is',m)\n",
    "#y-76, 92, 93, 91, 93, 95, 88, 91, 80, 81\n",
    "#x-72, 85, 91, 85, 91, 89, 84, 87, 75, 77"
   ]
  },
  {
   "cell_type": "code",
   "execution_count": 3,
   "id": "15320083",
   "metadata": {},
   "outputs": [
    {
     "name": "stdout",
     "output_type": "stream",
     "text": [
      "enter:78\n",
      "85.44410256410256\n"
     ]
    }
   ],
   "source": [
    "\n",
    "ex=int(input(\"enter:\"))\n",
    "yy= byx*(ex- x_bar) + y_bar\n",
    "\n",
    "print(yy)"
   ]
  },
  {
   "cell_type": "code",
   "execution_count": null,
   "id": "6770debd",
   "metadata": {
    "scrolled": true
   },
   "outputs": [
    {
     "name": "stdout",
     "output_type": "stream",
     "text": [
      "Enter the value of n:4\n"
     ]
    }
   ],
   "source": [
    "n = int(input(\"Enter the value of n:\"))\n",
    "x = []\n",
    "y = []\n",
    "\n",
    "for i in range(n):\n",
    "    a = int(input(\"Enter x value: \"))\n",
    "    x.append(a)\n",
    "\n",
    "print(\"x values:\", x)\n",
    "\n",
    "for i in range(n):\n",
    "    b = int(input(\"Enter y value: \"))\n",
    "    y.append(b)\n",
    "\n",
    "print(\"y values:\", y)\n",
    "\n",
    "x_bar = sum(x) / len(x)\n",
    "y_bar = sum(y) / len(y)\n",
    "\n",
    "\n",
    "cov_xy = sum((x[i] - x_bar) * (y[i] - y_bar) for i in range( n)) \n",
    "bxy = cov_xy/sum((x[i]- x_bar)**2 for i in range(n))\n",
    "byx = cov_xy/sum((y[i]- y_bar)**2 for i in range(n))\n",
    "xony = bxy*(y[i]- y_bar )\n",
    "yonx = byx*(x[i]- x_bar )\n",
    "\n",
    "\n",
    "print('Covariance (bxy):',cov_xy)\n",
    "print('bxy is:',bxy)\n",
    "print('byx is',byx)\n",
    "print(' x on y:',xony)\n",
    "print('y on x:',yonx)\n",
    "\n",
    "#y-76, 92, 93, 91, 93, 95, 88, 91, 80, 81\n",
    "#x-72, 85, 91, 85, 91, 89, 84, 87, 75, 77"
   ]
  },
  {
   "cell_type": "code",
   "execution_count": 22,
   "id": "cce53213",
   "metadata": {
    "scrolled": true
   },
   "outputs": [
    {
     "name": "stdout",
     "output_type": "stream",
     "text": [
      "enter:7\n",
      "-61211.25\n"
     ]
    }
   ],
   "source": [
    "ex=int(input(\"enter:\"))\n",
    "yy= m*ex + c\n",
    "\n",
    "print(yy)"
   ]
  },
  {
   "cell_type": "code",
   "execution_count": 23,
   "id": "94e375ef",
   "metadata": {},
   "outputs": [
    {
     "data": {
      "image/png": "[encoded data removed]",
      "text/plain": [
       "<Figure size 640x480 with 1 Axes>"
      ]
     },
     "metadata": {},
     "output_type": "display_data"
    }
   ],
   "source": [
    "import matplotlib.pyplot as plt\n",
    "import numpy as np\n",
    "plt.plot(x, y, 'o', label='Data points') \n",
    "plt.xlabel('X values')\n",
    "plt.ylabel('Y values')\n",
    "plt.title('Scatter Plot with Linear Regression')\n",
    "plt.legend()\n",
    "plt.grid(True)\n",
    "\n",
    "plt.show()"
   ]
  }
 ],
 "metadata": {
  "kernelspec": {
   "display_name": "Python 3 (ipykernel)",
   "language": "python",
   "name": "python3"
  },
  "language_info": {
   "codemirror_mode": {
    "name": "ipython",
    "version": 3
   },
   "file_extension": ".py",
   "mimetype": "text/x-python",
   "name": "python",
   "nbconvert_exporter": "python",
   "pygments_lexer": "ipython3",
   "version": "3.11.3"
  }
 },
 "nbformat": 4,
 "nbformat_minor": 5
}
