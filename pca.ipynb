{
 "cells": [
  {
   "cell_type": "code",
   "execution_count": 1,
   "id": "8b807d27",
   "metadata": {},
   "outputs": [
    {
     "name": "stdout",
     "output_type": "stream",
     "text": [
      "PCA result:\n",
      "[[-7.79422863e+00  1.66533454e-16]\n",
      " [-2.59807621e+00  5.55111512e-17]\n",
      " [ 2.59807621e+00 -5.55111512e-17]\n",
      " [ 7.79422863e+00 -1.66533454e-16]]\n"
     ]
    }
   ],
   "source": [
    "import numpy as np \n",
    "\n",
    "def pca(X, n_components):\n",
    "    X_mean = np.mean(X, axis=0)\n",
    "    X_centered = X - X_mean\n",
    "    cov_matrix = np.cov(X_centered, rowvar=False)\n",
    "    \n",
    "    eigenvalues, eigenvectors = np.linalg.eig(cov_matrix)\n",
    "    sorted_indices = np.argsort(eigenvalues)[::-1]\n",
    "    sorted_eigenvalues = eigenvalues[sorted_indices]\n",
    "    sorted_eigenvectors = eigenvectors[:, sorted_indices]\n",
    "    \n",
    "    principal_components = sorted_eigenvectors[:, :n_components]\n",
    "    X_pca = np.dot(X_centered, principal_components)\n",
    "    return X_pca\n",
    "\n",
    "if __name__ == \"__main__\":\n",
    "    X = np.array([[1, 2, 3], [4, 5, 6], [7, 8, 9], [10, 11, 12]]) \n",
    "    n_components = 2\n",
    "    X_pca = pca(X, n_components)\n",
    "    print(\"PCA result:\")\n",
    "    print(X_pca)\n"
   ]
  }
 ],
 "metadata": {
  "kernelspec": {
   "display_name": "Python 3 (ipykernel)",
   "language": "python",
   "name": "python3"
  },
  "language_info": {
   "codemirror_mode": {
    "name": "ipython",
    "version": 3
   },
   "file_extension": ".py",
   "mimetype": "text/x-python",
   "name": "python",
   "nbconvert_exporter": "python",
   "pygments_lexer": "ipython3",
   "version": "3.11.3"
  }
 },
 "nbformat": 4,
 "nbformat_minor": 5
}
